{
 "cells": [
  {
   "cell_type": "code",
   "execution_count": 2,
   "id": "c5869c9f",
   "metadata": {},
   "outputs": [
    {
     "name": "stdout",
     "output_type": "stream",
     "text": [
      "Hello World\n",
      "Hello\n"
     ]
    }
   ],
   "source": [
    "print(\"Hello World\")\n",
    "print('Hello')"
   ]
  },
  {
   "cell_type": "code",
   "execution_count": 5,
   "id": "ced436d1",
   "metadata": {},
   "outputs": [
    {
     "name": "stdout",
     "output_type": "stream",
     "text": [
      "Hello\n"
     ]
    }
   ],
   "source": [
    "# Single line & Multi-line comments:-\n",
    "\n",
    "'''\n",
    "If u want to achive ur goal in ur life ,\n",
    "then now the time is learn and\n",
    "make ur future as per u want...\n",
    "\n",
    "@ multilines @\n",
    "\n",
    "'''\n",
    "\n",
    "print(\"Hello\")"
   ]
  },
  {
   "cell_type": "code",
   "execution_count": 6,
   "id": "6543451d",
   "metadata": {},
   "outputs": [
    {
     "data": {
      "text/plain": [
       "int"
      ]
     },
     "execution_count": 6,
     "metadata": {},
     "output_type": "execute_result"
    }
   ],
   "source": [
    "#variable Declaration:-\n",
    "a=10   #(No need to mention data type)\n",
    "type(a)"
   ]
  },
  {
   "cell_type": "code",
   "execution_count": 7,
   "id": "37a0d598",
   "metadata": {},
   "outputs": [
    {
     "name": "stdout",
     "output_type": "stream",
     "text": [
      "10\n"
     ]
    }
   ],
   "source": [
    "print(a)"
   ]
  },
  {
   "cell_type": "code",
   "execution_count": 8,
   "id": "da4a7710",
   "metadata": {},
   "outputs": [],
   "source": [
    "tenth=10\n",
    "b=40\n",
    "c=\"silan\""
   ]
  },
  {
   "cell_type": "code",
   "execution_count": 9,
   "id": "b0480eed",
   "metadata": {},
   "outputs": [
    {
     "data": {
      "text/plain": [
       "str"
      ]
     },
     "execution_count": 9,
     "metadata": {},
     "output_type": "execute_result"
    }
   ],
   "source": [
    "type(c)"
   ]
  },
  {
   "cell_type": "code",
   "execution_count": 11,
   "id": "40a25867",
   "metadata": {},
   "outputs": [
    {
     "name": "stdout",
     "output_type": "stream",
     "text": [
      "Soyang Samparna\n"
     ]
    }
   ],
   "source": [
    "first_name=\"Soyang\"\n",
    "middle_name=\"Samparna\"\n",
    "print(first_name,middle_name)"
   ]
  },
  {
   "cell_type": "code",
   "execution_count": 12,
   "id": "d7a231d5",
   "metadata": {},
   "outputs": [
    {
     "data": {
      "text/plain": [
       "int"
      ]
     },
     "execution_count": 12,
     "metadata": {},
     "output_type": "execute_result"
    }
   ],
   "source": [
    "## Integers\n",
    "a=10\n",
    "type(a)"
   ]
  },
  {
   "cell_type": "code",
   "execution_count": 13,
   "id": "ce067eca",
   "metadata": {},
   "outputs": [
    {
     "data": {
      "text/plain": [
       "20"
      ]
     },
     "execution_count": 13,
     "metadata": {},
     "output_type": "execute_result"
    }
   ],
   "source": [
    "a+10"
   ]
  },
  {
   "cell_type": "code",
   "execution_count": 14,
   "id": "f7083443",
   "metadata": {},
   "outputs": [
    {
     "data": {
      "text/plain": [
       "100"
      ]
     },
     "execution_count": 14,
     "metadata": {},
     "output_type": "execute_result"
    }
   ],
   "source": [
    "a*10"
   ]
  },
  {
   "cell_type": "code",
   "execution_count": 15,
   "id": "88a88456",
   "metadata": {},
   "outputs": [
    {
     "data": {
      "text/plain": [
       "1.0"
      ]
     },
     "execution_count": 15,
     "metadata": {},
     "output_type": "execute_result"
    }
   ],
   "source": [
    "a/10"
   ]
  },
  {
   "cell_type": "code",
   "execution_count": 16,
   "id": "f0b39532",
   "metadata": {},
   "outputs": [
    {
     "data": {
      "text/plain": [
       "0"
      ]
     },
     "execution_count": 16,
     "metadata": {},
     "output_type": "execute_result"
    }
   ],
   "source": [
    "a%10"
   ]
  },
  {
   "cell_type": "code",
   "execution_count": 17,
   "id": "35cfac53",
   "metadata": {},
   "outputs": [
    {
     "name": "stdout",
     "output_type": "stream",
     "text": [
      "<class 'int'>\n"
     ]
    }
   ],
   "source": [
    "print(type(a))"
   ]
  },
  {
   "cell_type": "code",
   "execution_count": 18,
   "id": "81d38961",
   "metadata": {},
   "outputs": [
    {
     "name": "stdout",
     "output_type": "stream",
     "text": [
      "30\n"
     ]
    }
   ],
   "source": [
    "a=10\n",
    "b=20\n",
    "print(a+b)"
   ]
  },
  {
   "cell_type": "code",
   "execution_count": 19,
   "id": "e1f368a2",
   "metadata": {},
   "outputs": [
    {
     "data": {
      "text/plain": [
       "190.5"
      ]
     },
     "execution_count": 19,
     "metadata": {},
     "output_type": "execute_result"
    }
   ],
   "source": [
    "# Floating\n",
    "a=190.5\n",
    "a"
   ]
  },
  {
   "cell_type": "code",
   "execution_count": 21,
   "id": "ed883ae8",
   "metadata": {},
   "outputs": [
    {
     "name": "stdout",
     "output_type": "stream",
     "text": [
      "<class 'float'>\n"
     ]
    }
   ],
   "source": [
    "print(type(a))"
   ]
  },
  {
   "cell_type": "code",
   "execution_count": 25,
   "id": "36a9697f",
   "metadata": {},
   "outputs": [
    {
     "data": {
      "text/plain": [
       "190"
      ]
     },
     "execution_count": 25,
     "metadata": {},
     "output_type": "execute_result"
    }
   ],
   "source": [
    "#Type Casting:-\n",
    "#(It is a method to convert the python variable datatype into a certain data type in order to the operation required to be performed by users)\n",
    "\n",
    "int(a)"
   ]
  },
  {
   "cell_type": "code",
   "execution_count": 26,
   "id": "24178abb",
   "metadata": {},
   "outputs": [
    {
     "data": {
      "text/plain": [
       "20.0"
      ]
     },
     "execution_count": 26,
     "metadata": {},
     "output_type": "execute_result"
    }
   ],
   "source": [
    "float(b)"
   ]
  },
  {
   "cell_type": "code",
   "execution_count": 27,
   "id": "5a5049bc",
   "metadata": {},
   "outputs": [],
   "source": [
    "# Boolean:- (TRUE ? FALSE)\n",
    "a1=True  #(here \"TRUE\" is a predefined boolean keyword, who specifies the boolean values)\n",
    "b1=False #(Predefined Keyword)\n"
   ]
  },
  {
   "cell_type": "code",
   "execution_count": 28,
   "id": "82226e8b",
   "metadata": {},
   "outputs": [
    {
     "data": {
      "text/plain": [
       "bool"
      ]
     },
     "execution_count": 28,
     "metadata": {},
     "output_type": "execute_result"
    }
   ],
   "source": [
    "type(a1)"
   ]
  },
  {
   "cell_type": "code",
   "execution_count": 35,
   "id": "0ac375c4",
   "metadata": {},
   "outputs": [
    {
     "data": {
      "text/plain": [
       "False"
      ]
     },
     "execution_count": 35,
     "metadata": {},
     "output_type": "execute_result"
    }
   ],
   "source": [
    "a1 and b1\n",
    "#or\n",
    "a1 & b1"
   ]
  },
  {
   "cell_type": "code",
   "execution_count": 36,
   "id": "91437079",
   "metadata": {},
   "outputs": [
    {
     "data": {
      "text/plain": [
       "True"
      ]
     },
     "execution_count": 36,
     "metadata": {},
     "output_type": "execute_result"
    }
   ],
   "source": [
    "a1 or b1"
   ]
  },
  {
   "cell_type": "code",
   "execution_count": 37,
   "id": "472ca256",
   "metadata": {},
   "outputs": [
    {
     "data": {
      "text/plain": [
       "True"
      ]
     },
     "execution_count": 37,
     "metadata": {},
     "output_type": "execute_result"
    }
   ],
   "source": [
    "a1 | b1"
   ]
  },
  {
   "cell_type": "code",
   "execution_count": 40,
   "id": "df5c587f",
   "metadata": {},
   "outputs": [
    {
     "name": "stdout",
     "output_type": "stream",
     "text": [
      "soyang\n",
      "<class 'str'>\n"
     ]
    }
   ],
   "source": [
    "#Strings:-\n",
    "\n",
    "name1=\"soyang\"\n",
    "\n",
    "print(name1)\n",
    "\n",
    "print(type(name1))"
   ]
  },
  {
   "cell_type": "code",
   "execution_count": 43,
   "id": "2816c732",
   "metadata": {},
   "outputs": [
    {
     "data": {
      "text/plain": [
       "'soyang Samparna'"
      ]
     },
     "execution_count": 43,
     "metadata": {},
     "output_type": "execute_result"
    }
   ],
   "source": [
    "# Concatenation:-\n",
    "\n",
    "name1 + \" \" +\"Samparna\""
   ]
  },
  {
   "cell_type": "code",
   "execution_count": 44,
   "id": "3d37748a",
   "metadata": {},
   "outputs": [
    {
     "ename": "TypeError",
     "evalue": "can only concatenate str (not \"int\") to str",
     "output_type": "error",
     "traceback": [
      "\u001b[1;31m---------------------------------------------------------------------------\u001b[0m",
      "\u001b[1;31mTypeError\u001b[0m                                 Traceback (most recent call last)",
      "\u001b[1;32m~\\AppData\\Local\\Temp\\ipykernel_7180\\2748292829.py\u001b[0m in \u001b[0;36m<module>\u001b[1;34m\u001b[0m\n\u001b[0;32m      1\u001b[0m \u001b[1;31m# Concatenation with another data type:-\u001b[0m\u001b[1;33m\u001b[0m\u001b[1;33m\u001b[0m\u001b[0m\n\u001b[1;32m----> 2\u001b[1;33m \u001b[0mname1\u001b[0m \u001b[1;33m+\u001b[0m \u001b[1;36m1\u001b[0m\u001b[1;33m\u001b[0m\u001b[1;33m\u001b[0m\u001b[0m\n\u001b[0m",
      "\u001b[1;31mTypeError\u001b[0m: can only concatenate str (not \"int\") to str"
     ]
    }
   ],
   "source": [
    "# Concatenation with another data type:-\n",
    "name1 + 1"
   ]
  },
  {
   "cell_type": "code",
   "execution_count": 45,
   "id": "07d6f35d",
   "metadata": {},
   "outputs": [
    {
     "data": {
      "text/plain": [
       "'soyang1'"
      ]
     },
     "execution_count": 45,
     "metadata": {},
     "output_type": "execute_result"
    }
   ],
   "source": [
    "# If we'll want to concatenation with 1 then we need to convert int(1) to str(1):-\n",
    "\n",
    "name1 + str(1)"
   ]
  },
  {
   "cell_type": "code",
   "execution_count": 1,
   "id": "f04844a0",
   "metadata": {},
   "outputs": [
    {
     "name": "stdout",
     "output_type": "stream",
     "text": [
      "(1-2.3j)\n"
     ]
    }
   ],
   "source": [
    "# Complex Numbers:-\n",
    "\n",
    "j=1.0 - 2.3j #(Here one is real no and another is imaginary no)\n",
    "print(j)"
   ]
  },
  {
   "cell_type": "code",
   "execution_count": 2,
   "id": "3c818d40",
   "metadata": {},
   "outputs": [
    {
     "name": "stdout",
     "output_type": "stream",
     "text": [
      "1.0 -2.3\n"
     ]
    }
   ],
   "source": [
    "#Print Real & Imaginary no:-\n",
    "print(j.real, j.imag)"
   ]
  },
  {
   "cell_type": "code",
   "execution_count": 3,
   "id": "cb4e1a77",
   "metadata": {},
   "outputs": [],
   "source": [
    "#Dynamic Typing:- (we can change the variable's value with different data types in pythin so that it's called dynamic typing )\n",
    "a=10\n",
    "a=\"silan\""
   ]
  },
  {
   "cell_type": "code",
   "execution_count": 4,
   "id": "360b6a7a",
   "metadata": {},
   "outputs": [
    {
     "data": {
      "text/plain": [
       "'silan1'"
      ]
     },
     "execution_count": 4,
     "metadata": {},
     "output_type": "execute_result"
    }
   ],
   "source": [
    "#Strong Typing:-\n",
    "a+ \"1\""
   ]
  },
  {
   "cell_type": "code",
   "execution_count": 6,
   "id": "50714553",
   "metadata": {},
   "outputs": [
    {
     "data": {
      "text/plain": [
       "'silan1'"
      ]
     },
     "execution_count": 6,
     "metadata": {},
     "output_type": "execute_result"
    }
   ],
   "source": [
    "# If we'll add (a+1) It'll give error, so we need to covert 1 into str\n",
    "a+str(1)"
   ]
  },
  {
   "cell_type": "code",
   "execution_count": 9,
   "id": "ee5c3062",
   "metadata": {},
   "outputs": [
    {
     "name": "stdout",
     "output_type": "stream",
     "text": [
      "The value is:- 100\n"
     ]
    }
   ],
   "source": [
    "#String Formatting:-\n",
    "\n",
    "a=100\n",
    "print(\"The value is:-\", a)"
   ]
  },
  {
   "cell_type": "code",
   "execution_count": 2,
   "id": "d63810b1",
   "metadata": {},
   "outputs": [
    {
     "name": "stdout",
     "output_type": "stream",
     "text": [
      "The first name is Soyang and Last name is samparna\n"
     ]
    }
   ],
   "source": [
    "First_name = \"Soyang\"\n",
    "Last_name = \"samparna\"\n",
    "print(\"The first name is {0} and Last name is {1}\". format(First_name,Last_name))"
   ]
  },
  {
   "cell_type": "code",
   "execution_count": 3,
   "id": "624ae80c",
   "metadata": {},
   "outputs": [
    {
     "name": "stdout",
     "output_type": "stream",
     "text": [
      "The first name is samparna and Last name is Soyang\n"
     ]
    }
   ],
   "source": [
    "#As per fotmat it'll show the result with indexing:-\n",
    "print(\"The first name is {0} and Last name is {1}\". format(Last_name,First_name))"
   ]
  },
  {
   "cell_type": "code",
   "execution_count": 4,
   "id": "bc1ede14",
   "metadata": {},
   "outputs": [
    {
     "name": "stdout",
     "output_type": "stream",
     "text": [
      "The first name is Soyang and Last name is samparna\n"
     ]
    }
   ],
   "source": [
    "print(\"The first name is {1} and Last name is {0}\". format(Last_name,First_name))"
   ]
  },
  {
   "cell_type": "code",
   "execution_count": 5,
   "id": "6d78b49b",
   "metadata": {},
   "outputs": [
    {
     "name": "stdout",
     "output_type": "stream",
     "text": [
      "The first name is samparna and Last name is Soyang\n"
     ]
    }
   ],
   "source": [
    "print(\"The first name is {1} and Last name is {0}\". format(First_name,Last_name))"
   ]
  },
  {
   "cell_type": "code",
   "execution_count": 17,
   "id": "6fb8d3f4",
   "metadata": {},
   "outputs": [
    {
     "name": "stdout",
     "output_type": "stream",
     "text": [
      "The first name is Soyang and Last name is samparna\n"
     ]
    }
   ],
   "source": [
    "print(\"The first name is {a} and Last name is {b}\". format(b=Last_name,a=First_name))"
   ]
  },
  {
   "cell_type": "code",
   "execution_count": 18,
   "id": "4a3cd24c",
   "metadata": {},
   "outputs": [
    {
     "name": "stdout",
     "output_type": "stream",
     "text": [
      "Enter the namesilan\n"
     ]
    },
    {
     "data": {
      "text/plain": [
       "'silan'"
      ]
     },
     "execution_count": 18,
     "metadata": {},
     "output_type": "execute_result"
    }
   ],
   "source": [
    "# Input Type:- \n",
    "input(\"Enter the name\")"
   ]
  },
  {
   "cell_type": "code",
   "execution_count": 19,
   "id": "bd380a76",
   "metadata": {},
   "outputs": [
    {
     "name": "stdout",
     "output_type": "stream",
     "text": [
      "Enter the  number A1\n",
      "Enter the  number B3\n",
      "13\n"
     ]
    }
   ],
   "source": [
    "a=input(\"Enter the  number A\")\n",
    "b=input(\"Enter the  number B\")\n",
    "print(a+b)\n",
    "\n",
    "# Now a & b are string values so , output'll be as a concate type"
   ]
  },
  {
   "cell_type": "code",
   "execution_count": 6,
   "id": "e70e0ff6",
   "metadata": {},
   "outputs": [
    {
     "name": "stdout",
     "output_type": "stream",
     "text": [
      "Enter the  number A:-5\n",
      "Enter the  number B:-7\n",
      "The result is:- 12\n"
     ]
    }
   ],
   "source": [
    "# If we want to add value as numeric type then:-\n",
    "a=input(\"Enter the  number A:-\") #[Here input() takes value as a string type by default]\n",
    "b=input(\"Enter the  number B:-\")\n",
    "print(\"The result is:-\",int(a)+int(b)) # [So here we'll convert the variable to integer]"
   ]
  },
  {
   "cell_type": "code",
   "execution_count": 7,
   "id": "60aae75a",
   "metadata": {},
   "outputs": [
    {
     "name": "stdout",
     "output_type": "stream",
     "text": [
      "Enter the  number A:-8\n",
      "Enter the  number B:-7\n",
      "The result is:- 15\n"
     ]
    }
   ],
   "source": [
    "# An another way input value'll be integer type in python:-\n",
    "a=int(input(\"Enter the  number A:-\"))\n",
    "b=int(input(\"Enter the  number B:-\"))\n",
    "print(\"The result is:-\",a+b)"
   ]
  },
  {
   "cell_type": "code",
   "execution_count": null,
   "id": "5c02118a",
   "metadata": {},
   "outputs": [],
   "source": []
  }
 ],
 "metadata": {
  "kernelspec": {
   "display_name": "Python 3 (ipykernel)",
   "language": "python",
   "name": "python3"
  },
  "language_info": {
   "codemirror_mode": {
    "name": "ipython",
    "version": 3
   },
   "file_extension": ".py",
   "mimetype": "text/x-python",
   "name": "python",
   "nbconvert_exporter": "python",
   "pygments_lexer": "ipython3",
   "version": "3.9.13"
  }
 },
 "nbformat": 4,
 "nbformat_minor": 5
}
